{
  "nbformat": 4,
  "nbformat_minor": 0,
  "metadata": {
    "colab": {
      "name": "Schema.org Dashboard",
      "provenance": [],
      "collapsed_sections": [],
      "include_colab_link": true
    },
    "kernelspec": {
      "name": "python3",
      "display_name": "Python 3"
    }
  },
  "cells": [
    {
      "cell_type": "markdown",
      "metadata": {
        "id": "view-in-github",
        "colab_type": "text"
      },
      "source": [
        "<a href=\"https://colab.research.google.com/github/schemaorg/schemaorg/blob/main/scripts/Schema_org_Dashboard.ipynb\" target=\"_parent\"><img src=\"https://colab.research.google.com/assets/colab-badge.svg\" alt=\"Open In Colab\"/></a>"
      ]
    },
    {
      "cell_type": "markdown",
      "metadata": {
        "id": "AJJQ-jF0kYXe"
      },
      "source": [
        "This notebook is part of the Schema.org project codebase at https://github.com/schemaorg/schemaorg and licensed under the same terms. **bold text**\n"
      ]
    },
    {
      "cell_type": "markdown",
      "metadata": {
        "id": "uheAoZB3pPFJ"
      },
      "source": [
        "The purpose of this notebook is to show how to work programmatically with schema.org's definitions. \n",
        "\n",
        "See also https://colab.research.google.com/drive/1GVQaP5t8G-NRLAmEvVSp8k5MnsrfttDP for another approach to this, and this [2016 dashboard](https://github.com/schemaorg/schemaorg/blob/main/scripts/dashboard.ipynb) for some useful SPARQL queries to migrate here."
      ]
    },
    {
      "cell_type": "markdown",
      "metadata": {
        "id": "yVk9cr22oJsI"
      },
      "source": [
        ""
      ]
    },
    {
      "cell_type": "code",
      "metadata": {
        "id": "8QVUO_iekUSB"
      },
      "source": [
        ""
      ],
      "execution_count": null,
      "outputs": []
    },
    {
      "cell_type": "markdown",
      "metadata": {
        "id": "551DIPqFkYa2"
      },
      "source": [
        "# SPARQL\n",
        "\n",
        "How to query schema.org schemas using SPARQL"
      ]
    },
    {
      "cell_type": "code",
      "metadata": {
        "id": "zXmaJuuolhup"
      },
      "source": [
        "# run this once per session to bring in a required library\n",
        "\n",
        "!pip --quiet install sparqlwrapper | grep -v 'already satisfied'\n",
        "\n",
        "from SPARQLWrapper import SPARQLWrapper, JSON\n",
        "import pandas as pd\n",
        "import io\n",
        "import requests"
      ],
      "execution_count": 29,
      "outputs": []
    },
    {
      "cell_type": "code",
      "metadata": {
        "id": "NBJQh09tlh1y"
      },
      "source": [
        "# This function shows how to use rdflib to query a REMOTE sparql dataset\n",
        "\n",
        "q1 = \"\"\"SELECT distinct ?prop ?type1 ?type2 WHERE  {\n",
        "  ?type1 rdfs:subClassOf* <https://schema.org/Organization> . \n",
        "  ?type2 rdfs:subClassOf* <https://schema.org/Person> . \n",
        "  ?prop <https://schema.org/domainIncludes> ?type1 .\n",
        "  ?prop <https://schema.org/domainIncludes> ?type2 .\n",
        "}\"\"\"\n",
        "\n",
        "pd.set_option('display.max_colwidth', None)\n",
        "\n",
        "# data\n",
        "wd_endpoint = 'https://query.wikidata.org/sparql'\n",
        "sdo_endpoint = \"https://dydra.com/danbri/schema-org-v11/sparql\"\n",
        "\n",
        "# utility function\n",
        "def df_from_query(querystring=q1, endpoint=sdo_endpoint):\n",
        "  sparql = SPARQLWrapper(endpoint)\n",
        "  sparql.setQuery(querystring)\n",
        "  sparql.setReturnFormat(JSON)\n",
        "  results = sparql.query().convert()\n",
        "  return( pd.json_normalize(results['results']['bindings']) )"
      ],
      "execution_count": 30,
      "outputs": []
    },
    {
      "cell_type": "code",
      "metadata": {
        "colab": {
          "base_uri": "https://localhost:8080/"
        },
        "id": "sk8pvgslxJF5",
        "outputId": "1a7766ed-550d-462e-986a-3c858e3b7998"
      },
      "source": [
        "# This shows how to use rdflib to query a LOCAL sparql dataset\n",
        "# TODO: Need a function that loads https://webschemas.org/version/latest/schemaorg-current-https.nt into a named graph SPARQL store \n",
        "\n",
        "\n",
        "import rdflib\n",
        "import json\n",
        "from collections import Counter\n",
        "from rdflib import Graph, plugin, ConjunctiveGraph\n",
        "from rdflib.serializer import Serializer\n",
        "\n",
        "def toDF(result):\n",
        "  return pd.DataFrame(result, columns=result.vars)\n",
        "\n",
        "# Fetch Schema.org definitions\n",
        "\n",
        "sdo_current_https_url = \"https://webschemas.org/version/latest/schemaorg-current-https.nq\"\n",
        "sdo_all_https_url = \"https://webschemas.org/version/latest/schemaorg-all-https.nq\"\n",
        "\n",
        "# TODO - is this the only way to figure out what is in the attic? except both files use same NG URL\n",
        "g = ConjunctiveGraph(store=\"IOMemory\")\n",
        "g.parse( sdo_all_https_url,    format=\"nquads\",    publicID=\"https://schema.org/\")\n",
        "#g.parse( sdo_current_https_url,    format=\"nquads\",    publicID=\"https://schema.org/\")\n"
      ],
      "execution_count": 46,
      "outputs": [
        {
          "output_type": "execute_result",
          "data": {
            "text/plain": [
              "<Graph identifier=https://schema.org/ (<class 'rdflib.graph.Graph'>)>"
            ]
          },
          "metadata": {
            "tags": []
          },
          "execution_count": 46
        }
      ]
    },
    {
      "cell_type": "code",
      "metadata": {
        "id": "whvuBDYDOTIV"
      },
      "source": [
        ""
      ],
      "execution_count": 36,
      "outputs": []
    },
    {
      "cell_type": "code",
      "metadata": {
        "id": "K6ujTg-KOTNz"
      },
      "source": [
        "result = toDF( g.query(\"select * where { GRAPH ?g { ?article_type rdfs:subClassOf <https://schema.org/NewsArticle> ; rdfs:label ?label }}\") )\n"
      ],
      "execution_count": 38,
      "outputs": []
    },
    {
      "cell_type": "code",
      "metadata": {
        "colab": {
          "base_uri": "https://localhost:8080/",
          "height": 225
        },
        "id": "R0zd5fdtVwIG",
        "outputId": "877bc3a6-5624-43d7-8562-5080b967c6d8"
      },
      "source": [
        "result"
      ],
      "execution_count": 39,
      "outputs": [
        {
          "output_type": "execute_result",
          "data": {
            "text/html": [
              "<div>\n",
              "<style scoped>\n",
              "    .dataframe tbody tr th:only-of-type {\n",
              "        vertical-align: middle;\n",
              "    }\n",
              "\n",
              "    .dataframe tbody tr th {\n",
              "        vertical-align: top;\n",
              "    }\n",
              "\n",
              "    .dataframe thead th {\n",
              "        text-align: right;\n",
              "    }\n",
              "</style>\n",
              "<table border=\"1\" class=\"dataframe\">\n",
              "  <thead>\n",
              "    <tr style=\"text-align: right;\">\n",
              "      <th></th>\n",
              "      <th>article_type</th>\n",
              "      <th>g</th>\n",
              "      <th>label</th>\n",
              "    </tr>\n",
              "  </thead>\n",
              "  <tbody>\n",
              "    <tr>\n",
              "      <th>0</th>\n",
              "      <td>https://schema.org/OpinionNewsArticle</td>\n",
              "      <td>https://schema.org/11.0</td>\n",
              "      <td>OpinionNewsArticle</td>\n",
              "    </tr>\n",
              "    <tr>\n",
              "      <th>1</th>\n",
              "      <td>https://schema.org/ReportageNewsArticle</td>\n",
              "      <td>https://schema.org/11.0</td>\n",
              "      <td>ReportageNewsArticle</td>\n",
              "    </tr>\n",
              "    <tr>\n",
              "      <th>2</th>\n",
              "      <td>https://schema.org/ReviewNewsArticle</td>\n",
              "      <td>https://schema.org/11.0</td>\n",
              "      <td>ReviewNewsArticle</td>\n",
              "    </tr>\n",
              "    <tr>\n",
              "      <th>3</th>\n",
              "      <td>https://schema.org/AskPublicNewsArticle</td>\n",
              "      <td>https://schema.org/11.0</td>\n",
              "      <td>AskPublicNewsArticle</td>\n",
              "    </tr>\n",
              "    <tr>\n",
              "      <th>4</th>\n",
              "      <td>https://schema.org/BackgroundNewsArticle</td>\n",
              "      <td>https://schema.org/11.0</td>\n",
              "      <td>BackgroundNewsArticle</td>\n",
              "    </tr>\n",
              "    <tr>\n",
              "      <th>5</th>\n",
              "      <td>https://schema.org/AnalysisNewsArticle</td>\n",
              "      <td>https://schema.org/11.0</td>\n",
              "      <td>AnalysisNewsArticle</td>\n",
              "    </tr>\n",
              "  </tbody>\n",
              "</table>\n",
              "</div>"
            ],
            "text/plain": [
              "                               article_type  ...                  label\n",
              "0     https://schema.org/OpinionNewsArticle  ...     OpinionNewsArticle\n",
              "1   https://schema.org/ReportageNewsArticle  ...   ReportageNewsArticle\n",
              "2      https://schema.org/ReviewNewsArticle  ...      ReviewNewsArticle\n",
              "3   https://schema.org/AskPublicNewsArticle  ...   AskPublicNewsArticle\n",
              "4  https://schema.org/BackgroundNewsArticle  ...  BackgroundNewsArticle\n",
              "5    https://schema.org/AnalysisNewsArticle  ...    AnalysisNewsArticle\n",
              "\n",
              "[6 rows x 3 columns]"
            ]
          },
          "metadata": {
            "tags": []
          },
          "execution_count": 39
        }
      ]
    },
    {
      "cell_type": "code",
      "metadata": {
        "colab": {
          "base_uri": "https://localhost:8080/",
          "height": 402
        },
        "id": "A-50ld5mVwL0",
        "outputId": "f10ca499-265d-49b1-cf04-9a0969e3eb46"
      },
      "source": [
        "toDF( g.query(\"select * where { ?attic_term <https://schema.org/isPartOf> <https://attic.schema.org> ; rdfs:label ?label }\") )"
      ],
      "execution_count": 40,
      "outputs": [
        {
          "output_type": "execute_result",
          "data": {
            "text/html": [
              "<div>\n",
              "<style scoped>\n",
              "    .dataframe tbody tr th:only-of-type {\n",
              "        vertical-align: middle;\n",
              "    }\n",
              "\n",
              "    .dataframe tbody tr th {\n",
              "        vertical-align: top;\n",
              "    }\n",
              "\n",
              "    .dataframe thead th {\n",
              "        text-align: right;\n",
              "    }\n",
              "</style>\n",
              "<table border=\"1\" class=\"dataframe\">\n",
              "  <thead>\n",
              "    <tr style=\"text-align: right;\">\n",
              "      <th></th>\n",
              "      <th>label</th>\n",
              "      <th>attic_term</th>\n",
              "    </tr>\n",
              "  </thead>\n",
              "  <tbody>\n",
              "    <tr>\n",
              "      <th>0</th>\n",
              "      <td>ProductReturnUnlimitedWindow</td>\n",
              "      <td>https://schema.org/ProductReturnUnlimitedWindow</td>\n",
              "    </tr>\n",
              "    <tr>\n",
              "      <th>1</th>\n",
              "      <td>ProductReturnFiniteReturnWindow</td>\n",
              "      <td>https://schema.org/ProductReturnFiniteReturnWindow</td>\n",
              "    </tr>\n",
              "    <tr>\n",
              "      <th>2</th>\n",
              "      <td>hasProductReturnPolicy</td>\n",
              "      <td>https://schema.org/hasProductReturnPolicy</td>\n",
              "    </tr>\n",
              "    <tr>\n",
              "      <th>3</th>\n",
              "      <td>variablesMeasured</td>\n",
              "      <td>https://schema.org/variablesMeasured</td>\n",
              "    </tr>\n",
              "    <tr>\n",
              "      <th>4</th>\n",
              "      <td>ProductReturnUnspecified</td>\n",
              "      <td>https://schema.org/ProductReturnUnspecified</td>\n",
              "    </tr>\n",
              "    <tr>\n",
              "      <th>5</th>\n",
              "      <td>stupidProperty</td>\n",
              "      <td>https://schema.org/stupidProperty</td>\n",
              "    </tr>\n",
              "    <tr>\n",
              "      <th>6</th>\n",
              "      <td>ProductReturnNotPermitted</td>\n",
              "      <td>https://schema.org/ProductReturnNotPermitted</td>\n",
              "    </tr>\n",
              "    <tr>\n",
              "      <th>7</th>\n",
              "      <td>ProductReturnEnumeration</td>\n",
              "      <td>https://schema.org/ProductReturnEnumeration</td>\n",
              "    </tr>\n",
              "    <tr>\n",
              "      <th>8</th>\n",
              "      <td>StupidType</td>\n",
              "      <td>https://schema.org/StupidType</td>\n",
              "    </tr>\n",
              "    <tr>\n",
              "      <th>9</th>\n",
              "      <td>productReturnLink</td>\n",
              "      <td>https://schema.org/productReturnLink</td>\n",
              "    </tr>\n",
              "    <tr>\n",
              "      <th>10</th>\n",
              "      <td>ProductReturnPolicy</td>\n",
              "      <td>https://schema.org/ProductReturnPolicy</td>\n",
              "    </tr>\n",
              "    <tr>\n",
              "      <th>11</th>\n",
              "      <td>productReturnDays</td>\n",
              "      <td>https://schema.org/productReturnDays</td>\n",
              "    </tr>\n",
              "  </tbody>\n",
              "</table>\n",
              "</div>"
            ],
            "text/plain": [
              "                              label                                          attic_term\n",
              "0      ProductReturnUnlimitedWindow     https://schema.org/ProductReturnUnlimitedWindow\n",
              "1   ProductReturnFiniteReturnWindow  https://schema.org/ProductReturnFiniteReturnWindow\n",
              "2            hasProductReturnPolicy           https://schema.org/hasProductReturnPolicy\n",
              "3                 variablesMeasured                https://schema.org/variablesMeasured\n",
              "4          ProductReturnUnspecified         https://schema.org/ProductReturnUnspecified\n",
              "5                    stupidProperty                   https://schema.org/stupidProperty\n",
              "6         ProductReturnNotPermitted        https://schema.org/ProductReturnNotPermitted\n",
              "7          ProductReturnEnumeration         https://schema.org/ProductReturnEnumeration\n",
              "8                        StupidType                       https://schema.org/StupidType\n",
              "9                 productReturnLink                https://schema.org/productReturnLink\n",
              "10              ProductReturnPolicy              https://schema.org/ProductReturnPolicy\n",
              "11                productReturnDays                https://schema.org/productReturnDays"
            ]
          },
          "metadata": {
            "tags": []
          },
          "execution_count": 40
        }
      ]
    },
    {
      "cell_type": "code",
      "metadata": {
        "id": "KkxykifzPobw"
      },
      "source": [
        "grandchild_count_query = \"\"\"SELECT ?child (count(?grandchild) as ?nGrandchildren) where { ?child rdfs:subClassOf <https://schema.org/Thing> . OPTIONAL { ?grandchild rdfs:subClassOf ?child } } GROUP BY ?child order by desc(count(?grandchild))\"\"\"\n",
        "res = g.query (grandchild_count_query)\n",
        "mydf = toDF( res )\n",
        "#mydf.plot(kind='bar')"
      ],
      "execution_count": 41,
      "outputs": []
    },
    {
      "cell_type": "code",
      "metadata": {
        "id": "o1hwKv1JpM0H",
        "outputId": "774183b8-66fd-4fd2-9e42-376b965ad13b",
        "colab": {
          "base_uri": "https://localhost:8080/"
        }
      },
      "source": [
        "mydf.columns"
      ],
      "execution_count": 47,
      "outputs": [
        {
          "output_type": "execute_result",
          "data": {
            "text/plain": [
              "Index(['child', 'nGrandchildren'], dtype='object')"
            ]
          },
          "metadata": {
            "tags": []
          },
          "execution_count": 47
        }
      ]
    },
    {
      "cell_type": "code",
      "metadata": {
        "id": "VkaqsCGBLdyU"
      },
      "source": [
        "# https://www.shanelynn.ie/bar-plots-in-python-using-pandas-dataframes/"
      ],
      "execution_count": null,
      "outputs": []
    },
    {
      "cell_type": "code",
      "metadata": {
        "id": "4ErRue-3pM3I",
        "outputId": "4f80a399-d789-4292-d225-ba3a5db8ae3f",
        "colab": {
          "base_uri": "https://localhost:8080/",
          "height": 556
        }
      },
      "source": [
        "mydf['nGrandchildren']"
      ],
      "execution_count": 45,
      "outputs": [
        {
          "output_type": "error",
          "ename": "KeyError",
          "evalue": "ignored",
          "traceback": [
            "\u001b[0;31m---------------------------------------------------------------------------\u001b[0m",
            "\u001b[0;31mKeyError\u001b[0m                                  Traceback (most recent call last)",
            "\u001b[0;32m/usr/local/lib/python3.6/dist-packages/pandas/core/indexes/base.py\u001b[0m in \u001b[0;36mget_loc\u001b[0;34m(self, key, method, tolerance)\u001b[0m\n\u001b[1;32m   2894\u001b[0m             \u001b[0;32mtry\u001b[0m\u001b[0;34m:\u001b[0m\u001b[0;34m\u001b[0m\u001b[0;34m\u001b[0m\u001b[0m\n\u001b[0;32m-> 2895\u001b[0;31m                 \u001b[0;32mreturn\u001b[0m \u001b[0mself\u001b[0m\u001b[0;34m.\u001b[0m\u001b[0m_engine\u001b[0m\u001b[0;34m.\u001b[0m\u001b[0mget_loc\u001b[0m\u001b[0;34m(\u001b[0m\u001b[0mcasted_key\u001b[0m\u001b[0;34m)\u001b[0m\u001b[0;34m\u001b[0m\u001b[0;34m\u001b[0m\u001b[0m\n\u001b[0m\u001b[1;32m   2896\u001b[0m             \u001b[0;32mexcept\u001b[0m \u001b[0mKeyError\u001b[0m \u001b[0;32mas\u001b[0m \u001b[0merr\u001b[0m\u001b[0;34m:\u001b[0m\u001b[0;34m\u001b[0m\u001b[0;34m\u001b[0m\u001b[0m\n",
            "\u001b[0;32mpandas/_libs/index.pyx\u001b[0m in \u001b[0;36mpandas._libs.index.IndexEngine.get_loc\u001b[0;34m()\u001b[0m\n",
            "\u001b[0;32mpandas/_libs/index.pyx\u001b[0m in \u001b[0;36mpandas._libs.index.IndexEngine.get_loc\u001b[0;34m()\u001b[0m\n",
            "\u001b[0;32mpandas/_libs/hashtable_class_helper.pxi\u001b[0m in \u001b[0;36mpandas._libs.hashtable.PyObjectHashTable.get_item\u001b[0;34m()\u001b[0m\n",
            "\u001b[0;32mpandas/_libs/hashtable_class_helper.pxi\u001b[0m in \u001b[0;36mpandas._libs.hashtable.PyObjectHashTable.get_item\u001b[0;34m()\u001b[0m\n",
            "\u001b[0;31mKeyError\u001b[0m: 'nGrandchildren'",
            "\nThe above exception was the direct cause of the following exception:\n",
            "\u001b[0;31mKeyError\u001b[0m                                  Traceback (most recent call last)",
            "\u001b[0;32m<ipython-input-45-a3fab1786457>\u001b[0m in \u001b[0;36m<module>\u001b[0;34m()\u001b[0m\n\u001b[0;32m----> 1\u001b[0;31m \u001b[0mmydf\u001b[0m\u001b[0;34m[\u001b[0m\u001b[0;34m'nGrandchildren'\u001b[0m\u001b[0;34m]\u001b[0m\u001b[0;34m\u001b[0m\u001b[0;34m\u001b[0m\u001b[0m\n\u001b[0m",
            "\u001b[0;32m/usr/local/lib/python3.6/dist-packages/pandas/core/frame.py\u001b[0m in \u001b[0;36m__getitem__\u001b[0;34m(self, key)\u001b[0m\n\u001b[1;32m   2904\u001b[0m             \u001b[0;32mif\u001b[0m \u001b[0mself\u001b[0m\u001b[0;34m.\u001b[0m\u001b[0mcolumns\u001b[0m\u001b[0;34m.\u001b[0m\u001b[0mnlevels\u001b[0m \u001b[0;34m>\u001b[0m \u001b[0;36m1\u001b[0m\u001b[0;34m:\u001b[0m\u001b[0;34m\u001b[0m\u001b[0;34m\u001b[0m\u001b[0m\n\u001b[1;32m   2905\u001b[0m                 \u001b[0;32mreturn\u001b[0m \u001b[0mself\u001b[0m\u001b[0;34m.\u001b[0m\u001b[0m_getitem_multilevel\u001b[0m\u001b[0;34m(\u001b[0m\u001b[0mkey\u001b[0m\u001b[0;34m)\u001b[0m\u001b[0;34m\u001b[0m\u001b[0;34m\u001b[0m\u001b[0m\n\u001b[0;32m-> 2906\u001b[0;31m             \u001b[0mindexer\u001b[0m \u001b[0;34m=\u001b[0m \u001b[0mself\u001b[0m\u001b[0;34m.\u001b[0m\u001b[0mcolumns\u001b[0m\u001b[0;34m.\u001b[0m\u001b[0mget_loc\u001b[0m\u001b[0;34m(\u001b[0m\u001b[0mkey\u001b[0m\u001b[0;34m)\u001b[0m\u001b[0;34m\u001b[0m\u001b[0;34m\u001b[0m\u001b[0m\n\u001b[0m\u001b[1;32m   2907\u001b[0m             \u001b[0;32mif\u001b[0m \u001b[0mis_integer\u001b[0m\u001b[0;34m(\u001b[0m\u001b[0mindexer\u001b[0m\u001b[0;34m)\u001b[0m\u001b[0;34m:\u001b[0m\u001b[0;34m\u001b[0m\u001b[0;34m\u001b[0m\u001b[0m\n\u001b[1;32m   2908\u001b[0m                 \u001b[0mindexer\u001b[0m \u001b[0;34m=\u001b[0m \u001b[0;34m[\u001b[0m\u001b[0mindexer\u001b[0m\u001b[0;34m]\u001b[0m\u001b[0;34m\u001b[0m\u001b[0;34m\u001b[0m\u001b[0m\n",
            "\u001b[0;32m/usr/local/lib/python3.6/dist-packages/pandas/core/indexes/base.py\u001b[0m in \u001b[0;36mget_loc\u001b[0;34m(self, key, method, tolerance)\u001b[0m\n\u001b[1;32m   2895\u001b[0m                 \u001b[0;32mreturn\u001b[0m \u001b[0mself\u001b[0m\u001b[0;34m.\u001b[0m\u001b[0m_engine\u001b[0m\u001b[0;34m.\u001b[0m\u001b[0mget_loc\u001b[0m\u001b[0;34m(\u001b[0m\u001b[0mcasted_key\u001b[0m\u001b[0;34m)\u001b[0m\u001b[0;34m\u001b[0m\u001b[0;34m\u001b[0m\u001b[0m\n\u001b[1;32m   2896\u001b[0m             \u001b[0;32mexcept\u001b[0m \u001b[0mKeyError\u001b[0m \u001b[0;32mas\u001b[0m \u001b[0merr\u001b[0m\u001b[0;34m:\u001b[0m\u001b[0;34m\u001b[0m\u001b[0;34m\u001b[0m\u001b[0m\n\u001b[0;32m-> 2897\u001b[0;31m                 \u001b[0;32mraise\u001b[0m \u001b[0mKeyError\u001b[0m\u001b[0;34m(\u001b[0m\u001b[0mkey\u001b[0m\u001b[0;34m)\u001b[0m \u001b[0;32mfrom\u001b[0m \u001b[0merr\u001b[0m\u001b[0;34m\u001b[0m\u001b[0;34m\u001b[0m\u001b[0m\n\u001b[0m\u001b[1;32m   2898\u001b[0m \u001b[0;34m\u001b[0m\u001b[0m\n\u001b[1;32m   2899\u001b[0m         \u001b[0;32mif\u001b[0m \u001b[0mtolerance\u001b[0m \u001b[0;32mis\u001b[0m \u001b[0;32mnot\u001b[0m \u001b[0;32mNone\u001b[0m\u001b[0;34m:\u001b[0m\u001b[0;34m\u001b[0m\u001b[0;34m\u001b[0m\u001b[0m\n",
            "\u001b[0;31mKeyError\u001b[0m: 'nGrandchildren'"
          ]
        }
      ]
    },
    {
      "cell_type": "code",
      "metadata": {
        "id": "_jYNkY_Bok4M",
        "outputId": "b8f913dd-3414-477f-da8d-1872749006b5",
        "colab": {
          "base_uri": "https://localhost:8080/",
          "height": 741
        }
      },
      "source": [
        "print(mydf)\n",
        "mydf['nGrandchildren'].plot(kind='bar')"
      ],
      "execution_count": 44,
      "outputs": [
        {
          "output_type": "stream",
          "text": [
            "                              child nGrandchildren\n",
            "0   https://schema.org/CreativeWork             71\n",
            "1     https://schema.org/Intangible             59\n",
            "2          https://schema.org/Event             22\n",
            "3  https://schema.org/MedicalEntity             19\n",
            "4         https://schema.org/Action             16\n",
            "5   https://schema.org/Organization             15\n",
            "6          https://schema.org/Place              9\n",
            "7        https://schema.org/Product              6\n",
            "8         https://schema.org/Person              1\n",
            "9     https://schema.org/StupidType              0\n"
          ],
          "name": "stdout"
        },
        {
          "output_type": "error",
          "ename": "KeyError",
          "evalue": "ignored",
          "traceback": [
            "\u001b[0;31m---------------------------------------------------------------------------\u001b[0m",
            "\u001b[0;31mKeyError\u001b[0m                                  Traceback (most recent call last)",
            "\u001b[0;32m/usr/local/lib/python3.6/dist-packages/pandas/core/indexes/base.py\u001b[0m in \u001b[0;36mget_loc\u001b[0;34m(self, key, method, tolerance)\u001b[0m\n\u001b[1;32m   2894\u001b[0m             \u001b[0;32mtry\u001b[0m\u001b[0;34m:\u001b[0m\u001b[0;34m\u001b[0m\u001b[0;34m\u001b[0m\u001b[0m\n\u001b[0;32m-> 2895\u001b[0;31m                 \u001b[0;32mreturn\u001b[0m \u001b[0mself\u001b[0m\u001b[0;34m.\u001b[0m\u001b[0m_engine\u001b[0m\u001b[0;34m.\u001b[0m\u001b[0mget_loc\u001b[0m\u001b[0;34m(\u001b[0m\u001b[0mcasted_key\u001b[0m\u001b[0;34m)\u001b[0m\u001b[0;34m\u001b[0m\u001b[0;34m\u001b[0m\u001b[0m\n\u001b[0m\u001b[1;32m   2896\u001b[0m             \u001b[0;32mexcept\u001b[0m \u001b[0mKeyError\u001b[0m \u001b[0;32mas\u001b[0m \u001b[0merr\u001b[0m\u001b[0;34m:\u001b[0m\u001b[0;34m\u001b[0m\u001b[0;34m\u001b[0m\u001b[0m\n",
            "\u001b[0;32mpandas/_libs/index.pyx\u001b[0m in \u001b[0;36mpandas._libs.index.IndexEngine.get_loc\u001b[0;34m()\u001b[0m\n",
            "\u001b[0;32mpandas/_libs/index.pyx\u001b[0m in \u001b[0;36mpandas._libs.index.IndexEngine.get_loc\u001b[0;34m()\u001b[0m\n",
            "\u001b[0;32mpandas/_libs/hashtable_class_helper.pxi\u001b[0m in \u001b[0;36mpandas._libs.hashtable.PyObjectHashTable.get_item\u001b[0;34m()\u001b[0m\n",
            "\u001b[0;32mpandas/_libs/hashtable_class_helper.pxi\u001b[0m in \u001b[0;36mpandas._libs.hashtable.PyObjectHashTable.get_item\u001b[0;34m()\u001b[0m\n",
            "\u001b[0;31mKeyError\u001b[0m: 'nGrandchildren'",
            "\nThe above exception was the direct cause of the following exception:\n",
            "\u001b[0;31mKeyError\u001b[0m                                  Traceback (most recent call last)",
            "\u001b[0;32m<ipython-input-44-01a93b01bc25>\u001b[0m in \u001b[0;36m<module>\u001b[0;34m()\u001b[0m\n\u001b[1;32m      1\u001b[0m \u001b[0mprint\u001b[0m\u001b[0;34m(\u001b[0m\u001b[0mmydf\u001b[0m\u001b[0;34m)\u001b[0m\u001b[0;34m\u001b[0m\u001b[0;34m\u001b[0m\u001b[0m\n\u001b[0;32m----> 2\u001b[0;31m \u001b[0mmydf\u001b[0m\u001b[0;34m[\u001b[0m\u001b[0;34m'nGrandchildren'\u001b[0m\u001b[0;34m]\u001b[0m\u001b[0;34m.\u001b[0m\u001b[0mplot\u001b[0m\u001b[0;34m(\u001b[0m\u001b[0mkind\u001b[0m\u001b[0;34m=\u001b[0m\u001b[0;34m'bar'\u001b[0m\u001b[0;34m)\u001b[0m\u001b[0;34m\u001b[0m\u001b[0;34m\u001b[0m\u001b[0m\n\u001b[0m",
            "\u001b[0;32m/usr/local/lib/python3.6/dist-packages/pandas/core/frame.py\u001b[0m in \u001b[0;36m__getitem__\u001b[0;34m(self, key)\u001b[0m\n\u001b[1;32m   2904\u001b[0m             \u001b[0;32mif\u001b[0m \u001b[0mself\u001b[0m\u001b[0;34m.\u001b[0m\u001b[0mcolumns\u001b[0m\u001b[0;34m.\u001b[0m\u001b[0mnlevels\u001b[0m \u001b[0;34m>\u001b[0m \u001b[0;36m1\u001b[0m\u001b[0;34m:\u001b[0m\u001b[0;34m\u001b[0m\u001b[0;34m\u001b[0m\u001b[0m\n\u001b[1;32m   2905\u001b[0m                 \u001b[0;32mreturn\u001b[0m \u001b[0mself\u001b[0m\u001b[0;34m.\u001b[0m\u001b[0m_getitem_multilevel\u001b[0m\u001b[0;34m(\u001b[0m\u001b[0mkey\u001b[0m\u001b[0;34m)\u001b[0m\u001b[0;34m\u001b[0m\u001b[0;34m\u001b[0m\u001b[0m\n\u001b[0;32m-> 2906\u001b[0;31m             \u001b[0mindexer\u001b[0m \u001b[0;34m=\u001b[0m \u001b[0mself\u001b[0m\u001b[0;34m.\u001b[0m\u001b[0mcolumns\u001b[0m\u001b[0;34m.\u001b[0m\u001b[0mget_loc\u001b[0m\u001b[0;34m(\u001b[0m\u001b[0mkey\u001b[0m\u001b[0;34m)\u001b[0m\u001b[0;34m\u001b[0m\u001b[0;34m\u001b[0m\u001b[0m\n\u001b[0m\u001b[1;32m   2907\u001b[0m             \u001b[0;32mif\u001b[0m \u001b[0mis_integer\u001b[0m\u001b[0;34m(\u001b[0m\u001b[0mindexer\u001b[0m\u001b[0;34m)\u001b[0m\u001b[0;34m:\u001b[0m\u001b[0;34m\u001b[0m\u001b[0;34m\u001b[0m\u001b[0m\n\u001b[1;32m   2908\u001b[0m                 \u001b[0mindexer\u001b[0m \u001b[0;34m=\u001b[0m \u001b[0;34m[\u001b[0m\u001b[0mindexer\u001b[0m\u001b[0;34m]\u001b[0m\u001b[0;34m\u001b[0m\u001b[0;34m\u001b[0m\u001b[0m\n",
            "\u001b[0;32m/usr/local/lib/python3.6/dist-packages/pandas/core/indexes/base.py\u001b[0m in \u001b[0;36mget_loc\u001b[0;34m(self, key, method, tolerance)\u001b[0m\n\u001b[1;32m   2895\u001b[0m                 \u001b[0;32mreturn\u001b[0m \u001b[0mself\u001b[0m\u001b[0;34m.\u001b[0m\u001b[0m_engine\u001b[0m\u001b[0;34m.\u001b[0m\u001b[0mget_loc\u001b[0m\u001b[0;34m(\u001b[0m\u001b[0mcasted_key\u001b[0m\u001b[0;34m)\u001b[0m\u001b[0;34m\u001b[0m\u001b[0;34m\u001b[0m\u001b[0m\n\u001b[1;32m   2896\u001b[0m             \u001b[0;32mexcept\u001b[0m \u001b[0mKeyError\u001b[0m \u001b[0;32mas\u001b[0m \u001b[0merr\u001b[0m\u001b[0;34m:\u001b[0m\u001b[0;34m\u001b[0m\u001b[0;34m\u001b[0m\u001b[0m\n\u001b[0;32m-> 2897\u001b[0;31m                 \u001b[0;32mraise\u001b[0m \u001b[0mKeyError\u001b[0m\u001b[0;34m(\u001b[0m\u001b[0mkey\u001b[0m\u001b[0;34m)\u001b[0m \u001b[0;32mfrom\u001b[0m \u001b[0merr\u001b[0m\u001b[0;34m\u001b[0m\u001b[0;34m\u001b[0m\u001b[0m\n\u001b[0m\u001b[1;32m   2898\u001b[0m \u001b[0;34m\u001b[0m\u001b[0m\n\u001b[1;32m   2899\u001b[0m         \u001b[0;32mif\u001b[0m \u001b[0mtolerance\u001b[0m \u001b[0;32mis\u001b[0m \u001b[0;32mnot\u001b[0m \u001b[0;32mNone\u001b[0m\u001b[0;34m:\u001b[0m\u001b[0;34m\u001b[0m\u001b[0;34m\u001b[0m\u001b[0m\n",
            "\u001b[0;31mKeyError\u001b[0m: 'nGrandchildren'"
          ]
        }
      ]
    },
    {
      "cell_type": "code",
      "metadata": {
        "id": "LwTz6Up0pL1_"
      },
      "source": [
        ""
      ],
      "execution_count": null,
      "outputs": []
    },
    {
      "cell_type": "code",
      "metadata": {
        "id": "9QdLrmnupL6P"
      },
      "source": [
        ""
      ],
      "execution_count": null,
      "outputs": []
    },
    {
      "cell_type": "code",
      "metadata": {
        "id": "m70F_AY4pL82"
      },
      "source": [
        ""
      ],
      "execution_count": null,
      "outputs": []
    },
    {
      "cell_type": "code",
      "metadata": {
        "id": "xJkrUP0Eok8T"
      },
      "source": [
        ""
      ],
      "execution_count": null,
      "outputs": []
    },
    {
      "cell_type": "code",
      "metadata": {
        "colab": {
          "base_uri": "https://localhost:8080/",
          "height": 906
        },
        "id": "UkB7JWc9q5CP",
        "outputId": "283196ce-3e12-40ea-d760-a238818c8135"
      },
      "source": [
        "result\n",
        "\n",
        "x = df_from_query(q1)\n",
        "x"
      ],
      "execution_count": 17,
      "outputs": [
        {
          "output_type": "execute_result",
          "data": {
            "text/html": [
              "<div>\n",
              "<style scoped>\n",
              "    .dataframe tbody tr th:only-of-type {\n",
              "        vertical-align: middle;\n",
              "    }\n",
              "\n",
              "    .dataframe tbody tr th {\n",
              "        vertical-align: top;\n",
              "    }\n",
              "\n",
              "    .dataframe thead th {\n",
              "        text-align: right;\n",
              "    }\n",
              "</style>\n",
              "<table border=\"1\" class=\"dataframe\">\n",
              "  <thead>\n",
              "    <tr style=\"text-align: right;\">\n",
              "      <th></th>\n",
              "      <th>prop.type</th>\n",
              "      <th>prop.value</th>\n",
              "      <th>type1.type</th>\n",
              "      <th>type1.value</th>\n",
              "      <th>type2.type</th>\n",
              "      <th>type2.value</th>\n",
              "    </tr>\n",
              "  </thead>\n",
              "  <tbody>\n",
              "    <tr>\n",
              "      <th>0</th>\n",
              "      <td>uri</td>\n",
              "      <td>https://schema.org/email</td>\n",
              "      <td>uri</td>\n",
              "      <td>https://schema.org/Organization</td>\n",
              "      <td>uri</td>\n",
              "      <td>https://schema.org/Person</td>\n",
              "    </tr>\n",
              "    <tr>\n",
              "      <th>1</th>\n",
              "      <td>uri</td>\n",
              "      <td>https://schema.org/faxNumber</td>\n",
              "      <td>uri</td>\n",
              "      <td>https://schema.org/Organization</td>\n",
              "      <td>uri</td>\n",
              "      <td>https://schema.org/Person</td>\n",
              "    </tr>\n",
              "    <tr>\n",
              "      <th>2</th>\n",
              "      <td>uri</td>\n",
              "      <td>https://schema.org/award</td>\n",
              "      <td>uri</td>\n",
              "      <td>https://schema.org/Organization</td>\n",
              "      <td>uri</td>\n",
              "      <td>https://schema.org/Person</td>\n",
              "    </tr>\n",
              "    <tr>\n",
              "      <th>3</th>\n",
              "      <td>uri</td>\n",
              "      <td>https://schema.org/telephone</td>\n",
              "      <td>uri</td>\n",
              "      <td>https://schema.org/Organization</td>\n",
              "      <td>uri</td>\n",
              "      <td>https://schema.org/Person</td>\n",
              "    </tr>\n",
              "    <tr>\n",
              "      <th>4</th>\n",
              "      <td>uri</td>\n",
              "      <td>https://schema.org/memberOf</td>\n",
              "      <td>uri</td>\n",
              "      <td>https://schema.org/Organization</td>\n",
              "      <td>uri</td>\n",
              "      <td>https://schema.org/Person</td>\n",
              "    </tr>\n",
              "    <tr>\n",
              "      <th>5</th>\n",
              "      <td>uri</td>\n",
              "      <td>https://schema.org/sponsor</td>\n",
              "      <td>uri</td>\n",
              "      <td>https://schema.org/Organization</td>\n",
              "      <td>uri</td>\n",
              "      <td>https://schema.org/Person</td>\n",
              "    </tr>\n",
              "    <tr>\n",
              "      <th>6</th>\n",
              "      <td>uri</td>\n",
              "      <td>https://schema.org/knowsAbout</td>\n",
              "      <td>uri</td>\n",
              "      <td>https://schema.org/Organization</td>\n",
              "      <td>uri</td>\n",
              "      <td>https://schema.org/Person</td>\n",
              "    </tr>\n",
              "    <tr>\n",
              "      <th>7</th>\n",
              "      <td>uri</td>\n",
              "      <td>https://schema.org/gender</td>\n",
              "      <td>uri</td>\n",
              "      <td>https://schema.org/SportsTeam</td>\n",
              "      <td>uri</td>\n",
              "      <td>https://schema.org/Person</td>\n",
              "    </tr>\n",
              "    <tr>\n",
              "      <th>8</th>\n",
              "      <td>uri</td>\n",
              "      <td>https://schema.org/vatID</td>\n",
              "      <td>uri</td>\n",
              "      <td>https://schema.org/Organization</td>\n",
              "      <td>uri</td>\n",
              "      <td>https://schema.org/Person</td>\n",
              "    </tr>\n",
              "    <tr>\n",
              "      <th>9</th>\n",
              "      <td>uri</td>\n",
              "      <td>https://schema.org/brand</td>\n",
              "      <td>uri</td>\n",
              "      <td>https://schema.org/Organization</td>\n",
              "      <td>uri</td>\n",
              "      <td>https://schema.org/Person</td>\n",
              "    </tr>\n",
              "    <tr>\n",
              "      <th>10</th>\n",
              "      <td>uri</td>\n",
              "      <td>https://schema.org/seeks</td>\n",
              "      <td>uri</td>\n",
              "      <td>https://schema.org/Organization</td>\n",
              "      <td>uri</td>\n",
              "      <td>https://schema.org/Person</td>\n",
              "    </tr>\n",
              "    <tr>\n",
              "      <th>11</th>\n",
              "      <td>uri</td>\n",
              "      <td>https://schema.org/funder</td>\n",
              "      <td>uri</td>\n",
              "      <td>https://schema.org/Organization</td>\n",
              "      <td>uri</td>\n",
              "      <td>https://schema.org/Person</td>\n",
              "    </tr>\n",
              "    <tr>\n",
              "      <th>12</th>\n",
              "      <td>uri</td>\n",
              "      <td>https://schema.org/hasPOS</td>\n",
              "      <td>uri</td>\n",
              "      <td>https://schema.org/Organization</td>\n",
              "      <td>uri</td>\n",
              "      <td>https://schema.org/Person</td>\n",
              "    </tr>\n",
              "    <tr>\n",
              "      <th>13</th>\n",
              "      <td>uri</td>\n",
              "      <td>https://schema.org/publishingPrinciples</td>\n",
              "      <td>uri</td>\n",
              "      <td>https://schema.org/Organization</td>\n",
              "      <td>uri</td>\n",
              "      <td>https://schema.org/Person</td>\n",
              "    </tr>\n",
              "    <tr>\n",
              "      <th>14</th>\n",
              "      <td>uri</td>\n",
              "      <td>https://schema.org/duns</td>\n",
              "      <td>uri</td>\n",
              "      <td>https://schema.org/Organization</td>\n",
              "      <td>uri</td>\n",
              "      <td>https://schema.org/Person</td>\n",
              "    </tr>\n",
              "    <tr>\n",
              "      <th>15</th>\n",
              "      <td>uri</td>\n",
              "      <td>https://schema.org/knowsLanguage</td>\n",
              "      <td>uri</td>\n",
              "      <td>https://schema.org/Organization</td>\n",
              "      <td>uri</td>\n",
              "      <td>https://schema.org/Person</td>\n",
              "    </tr>\n",
              "    <tr>\n",
              "      <th>16</th>\n",
              "      <td>uri</td>\n",
              "      <td>https://schema.org/globalLocationNumber</td>\n",
              "      <td>uri</td>\n",
              "      <td>https://schema.org/Organization</td>\n",
              "      <td>uri</td>\n",
              "      <td>https://schema.org/Person</td>\n",
              "    </tr>\n",
              "    <tr>\n",
              "      <th>17</th>\n",
              "      <td>uri</td>\n",
              "      <td>https://schema.org/hasOfferCatalog</td>\n",
              "      <td>uri</td>\n",
              "      <td>https://schema.org/Organization</td>\n",
              "      <td>uri</td>\n",
              "      <td>https://schema.org/Person</td>\n",
              "    </tr>\n",
              "    <tr>\n",
              "      <th>18</th>\n",
              "      <td>uri</td>\n",
              "      <td>https://schema.org/interactionStatistic</td>\n",
              "      <td>uri</td>\n",
              "      <td>https://schema.org/Organization</td>\n",
              "      <td>uri</td>\n",
              "      <td>https://schema.org/Person</td>\n",
              "    </tr>\n",
              "    <tr>\n",
              "      <th>19</th>\n",
              "      <td>uri</td>\n",
              "      <td>https://schema.org/contactPoint</td>\n",
              "      <td>uri</td>\n",
              "      <td>https://schema.org/Organization</td>\n",
              "      <td>uri</td>\n",
              "      <td>https://schema.org/Person</td>\n",
              "    </tr>\n",
              "    <tr>\n",
              "      <th>20</th>\n",
              "      <td>uri</td>\n",
              "      <td>https://schema.org/owns</td>\n",
              "      <td>uri</td>\n",
              "      <td>https://schema.org/Organization</td>\n",
              "      <td>uri</td>\n",
              "      <td>https://schema.org/Person</td>\n",
              "    </tr>\n",
              "    <tr>\n",
              "      <th>21</th>\n",
              "      <td>uri</td>\n",
              "      <td>https://schema.org/contactPoints</td>\n",
              "      <td>uri</td>\n",
              "      <td>https://schema.org/Organization</td>\n",
              "      <td>uri</td>\n",
              "      <td>https://schema.org/Person</td>\n",
              "    </tr>\n",
              "    <tr>\n",
              "      <th>22</th>\n",
              "      <td>uri</td>\n",
              "      <td>https://schema.org/taxID</td>\n",
              "      <td>uri</td>\n",
              "      <td>https://schema.org/Organization</td>\n",
              "      <td>uri</td>\n",
              "      <td>https://schema.org/Person</td>\n",
              "    </tr>\n",
              "    <tr>\n",
              "      <th>23</th>\n",
              "      <td>uri</td>\n",
              "      <td>https://schema.org/awards</td>\n",
              "      <td>uri</td>\n",
              "      <td>https://schema.org/Organization</td>\n",
              "      <td>uri</td>\n",
              "      <td>https://schema.org/Person</td>\n",
              "    </tr>\n",
              "    <tr>\n",
              "      <th>24</th>\n",
              "      <td>uri</td>\n",
              "      <td>https://schema.org/address</td>\n",
              "      <td>uri</td>\n",
              "      <td>https://schema.org/Organization</td>\n",
              "      <td>uri</td>\n",
              "      <td>https://schema.org/Person</td>\n",
              "    </tr>\n",
              "    <tr>\n",
              "      <th>25</th>\n",
              "      <td>uri</td>\n",
              "      <td>https://schema.org/hasCredential</td>\n",
              "      <td>uri</td>\n",
              "      <td>https://schema.org/Organization</td>\n",
              "      <td>uri</td>\n",
              "      <td>https://schema.org/Person</td>\n",
              "    </tr>\n",
              "    <tr>\n",
              "      <th>26</th>\n",
              "      <td>uri</td>\n",
              "      <td>https://schema.org/makesOffer</td>\n",
              "      <td>uri</td>\n",
              "      <td>https://schema.org/Organization</td>\n",
              "      <td>uri</td>\n",
              "      <td>https://schema.org/Person</td>\n",
              "    </tr>\n",
              "    <tr>\n",
              "      <th>27</th>\n",
              "      <td>uri</td>\n",
              "      <td>https://schema.org/isicV4</td>\n",
              "      <td>uri</td>\n",
              "      <td>https://schema.org/Organization</td>\n",
              "      <td>uri</td>\n",
              "      <td>https://schema.org/Person</td>\n",
              "    </tr>\n",
              "    <tr>\n",
              "      <th>28</th>\n",
              "      <td>uri</td>\n",
              "      <td>https://schema.org/naics</td>\n",
              "      <td>uri</td>\n",
              "      <td>https://schema.org/Organization</td>\n",
              "      <td>uri</td>\n",
              "      <td>https://schema.org/Person</td>\n",
              "    </tr>\n",
              "  </tbody>\n",
              "</table>\n",
              "</div>"
            ],
            "text/plain": [
              "   prop.type  ...                type2.value\n",
              "0        uri  ...  https://schema.org/Person\n",
              "1        uri  ...  https://schema.org/Person\n",
              "2        uri  ...  https://schema.org/Person\n",
              "3        uri  ...  https://schema.org/Person\n",
              "4        uri  ...  https://schema.org/Person\n",
              "5        uri  ...  https://schema.org/Person\n",
              "6        uri  ...  https://schema.org/Person\n",
              "7        uri  ...  https://schema.org/Person\n",
              "8        uri  ...  https://schema.org/Person\n",
              "9        uri  ...  https://schema.org/Person\n",
              "10       uri  ...  https://schema.org/Person\n",
              "11       uri  ...  https://schema.org/Person\n",
              "12       uri  ...  https://schema.org/Person\n",
              "13       uri  ...  https://schema.org/Person\n",
              "14       uri  ...  https://schema.org/Person\n",
              "15       uri  ...  https://schema.org/Person\n",
              "16       uri  ...  https://schema.org/Person\n",
              "17       uri  ...  https://schema.org/Person\n",
              "18       uri  ...  https://schema.org/Person\n",
              "19       uri  ...  https://schema.org/Person\n",
              "20       uri  ...  https://schema.org/Person\n",
              "21       uri  ...  https://schema.org/Person\n",
              "22       uri  ...  https://schema.org/Person\n",
              "23       uri  ...  https://schema.org/Person\n",
              "24       uri  ...  https://schema.org/Person\n",
              "25       uri  ...  https://schema.org/Person\n",
              "26       uri  ...  https://schema.org/Person\n",
              "27       uri  ...  https://schema.org/Person\n",
              "28       uri  ...  https://schema.org/Person\n",
              "\n",
              "[29 rows x 6 columns]"
            ]
          },
          "metadata": {
            "tags": []
          },
          "execution_count": 17
        }
      ]
    },
    {
      "cell_type": "code",
      "metadata": {
        "id": "8SgUI0FArHKY"
      },
      "source": [
        ""
      ],
      "execution_count": 20,
      "outputs": []
    },
    {
      "cell_type": "code",
      "metadata": {
        "id": "bfgvQEeWrHSP"
      },
      "source": [
        ""
      ],
      "execution_count": 20,
      "outputs": []
    },
    {
      "cell_type": "markdown",
      "metadata": {
        "id": "mwzES2SzlVq5"
      },
      "source": [
        "# Examples\n",
        "\n",
        "How to access schema.org examples"
      ]
    },
    {
      "cell_type": "code",
      "metadata": {
        "colab": {
          "base_uri": "https://localhost:8080/"
        },
        "id": "C7KAqqyWrGao",
        "outputId": "c0d026aa-6268-4281-a7d8-0e430a0b761b"
      },
      "source": [
        "# First we clone the entire schema.org repo, then we collect up the examples from .txt files:\n",
        "\n",
        "!git clone https://github.com/schemaorg/schemaorg"
      ],
      "execution_count": 21,
      "outputs": [
        {
          "output_type": "stream",
          "text": [
            "Cloning into 'schemaorg'...\n",
            "remote: Enumerating objects: 132, done.\u001b[K\n",
            "remote: Counting objects: 100% (132/132), done.\u001b[K\n",
            "remote: Compressing objects: 100% (110/110), done.\u001b[K\n",
            "remote: Total 23477 (delta 80), reused 50 (delta 21), pack-reused 23345\u001b[K\n",
            "Receiving objects: 100% (23477/23477), 96.36 MiB | 28.09 MiB/s, done.\n",
            "Resolving deltas: 100% (16700/16700), done.\n",
            "Checking out files: 100% (1788/1788), done.\n"
          ],
          "name": "stdout"
        }
      ]
    },
    {
      "cell_type": "code",
      "metadata": {
        "colab": {
          "base_uri": "https://localhost:8080/"
        },
        "id": "nf2HY2otv0l7",
        "outputId": "1ead8c49-8b06-420e-abed-604995c755ce"
      },
      "source": [
        "!find . -name \\*example\\*.txt -exec ls {} \\;"
      ],
      "execution_count": 24,
      "outputs": [
        {
          "output_type": "stream",
          "text": [
            "./schemaorg/SchemaExamples/example-code/examples.txt\n",
            "./schemaorg/data/sdo-bus-stop-examples.txt\n",
            "./schemaorg/data/sdo-trip-examples.txt\n",
            "./schemaorg/data/sdo-police-station-examples.txt\n",
            "./schemaorg/data/sdo-airport-examples.txt\n",
            "./schemaorg/data/sdo-train-station-examples.txt\n",
            "./schemaorg/data/sdo-videogame-examples.txt\n",
            "./schemaorg/data/sdo-book-series-examples.txt\n",
            "./schemaorg/data/sdo-automobile-examples.txt\n",
            "./schemaorg/data/sdo-invoice-examples.txt\n",
            "./schemaorg/data/sdo-creativework-examples.txt\n",
            "./schemaorg/data/sdo-itemlist-examples.txt\n",
            "./schemaorg/data/sdo-offeredby-examples.txt\n",
            "./schemaorg/data/sdo-digital-document-examples.txt\n",
            "./schemaorg/data/examples.txt\n",
            "./schemaorg/data/sdo-hotels-examples.txt\n",
            "./schemaorg/data/ext/pending/issue-2490-examples.txt\n",
            "./schemaorg/data/ext/pending/issue-1670-examples.txt\n",
            "./schemaorg/data/ext/pending/issue-2192-examples.txt\n",
            "./schemaorg/data/ext/pending/issue-894-examples.txt\n",
            "./schemaorg/data/ext/pending/issue-2396-examples.txt\n",
            "./schemaorg/data/ext/pending/issue-1156-examples.txt\n",
            "./schemaorg/data/ext/pending/issue-2384-examples.txt\n",
            "./schemaorg/data/ext/pending/issue-1698-examples.txt\n",
            "./schemaorg/data/ext/pending/issue-2294-examples.txt\n",
            "./schemaorg/data/ext/pending/issue-2543-examples.txt\n",
            "./schemaorg/data/ext/pending/issue-1457-examples.txt\n",
            "./schemaorg/data/ext/pending/issue-1389-examples.txt\n",
            "./schemaorg/data/ext/pending/issue-2173-examples.txt\n",
            "./schemaorg/data/ext/pending/issue-447-examples.txt\n",
            "./schemaorg/data/ext/pending/issue-1779-examples.txt\n",
            "./schemaorg/data/ext/pending/issue-1525-examples.txt\n",
            "./schemaorg/data/ext/pending/issue-1050-examples.txt\n",
            "./schemaorg/data/ext/pending/issue-2599-examples.txt\n",
            "./schemaorg/data/ext/pending/issue-1759-examples.txt\n",
            "./schemaorg/data/ext/pending/issue-383-examples.txt\n",
            "./schemaorg/data/ext/pending/issue-2482-examples.txt\n",
            "./schemaorg/data/ext/pending/issue-1741-examples.txt\n",
            "./schemaorg/data/ext/pending/issue-2366-examples.txt\n",
            "./schemaorg/data/ext/pending/issue-2421-examples.txt\n",
            "./schemaorg/data/ext/pending/issue-2021-examples.txt\n",
            "./schemaorg/data/ext/pending/issue-2534-examples.txt\n",
            "./schemaorg/data/ext/pending/issue-2405-examples.txt\n",
            "./schemaorg/data/ext/pending/issue-2085-examples.txt\n",
            "./schemaorg/data/ext/pending/issue-1062-examples.txt\n",
            "./schemaorg/data/ext/pending/issue-1950-examples.txt\n",
            "./schemaorg/data/ext/pending/issue-2296-examples.txt\n",
            "./schemaorg/data/ext/pending/issue-template-examples.txt\n",
            "./schemaorg/data/ext/pending/issue-1758-examples.txt\n",
            "./schemaorg/data/ext/pending/issue-2109-examples.txt\n",
            "./schemaorg/data/ext/pending/issue-2722-example.txt\n",
            "./schemaorg/data/ext/pending/issue-2108-examples.txt\n",
            "./schemaorg/data/ext/pending/issue-373-examples.txt\n",
            "./schemaorg/data/ext/pending/issue-2289-examples.txt\n",
            "./schemaorg/data/ext/pending/issue-1423-examples.txt\n",
            "./schemaorg/data/ext/pending/issue-2514-examples.txt\n",
            "./schemaorg/data/ext/pending/issue-2419-examples.txt\n",
            "./schemaorg/data/ext/pending/issue-2083-examples.txt\n",
            "./schemaorg/data/ext/pending/issue-1842-examples.txt\n",
            "./schemaorg/data/ext/pending/issue-2740-examples.txt\n",
            "./schemaorg/data/ext/pending/issue-1045-examples.txt\n",
            "./schemaorg/data/ext/pending/issue-1689-examples.txt\n",
            "./schemaorg/data/ext/pending/issue-1253-examples.txt\n",
            "./schemaorg/data/ext/pending/issue-1810-examples.txt\n",
            "./schemaorg/data/ext/pending/issue-271-examples.txt\n",
            "./schemaorg/data/ext/health-lifesci/drug-example.txt\n",
            "./schemaorg/data/ext/health-lifesci/MedicalScholarlyArticle-examples.txt\n",
            "./schemaorg/data/ext/health-lifesci/medicalCondition-examples.txt\n",
            "./schemaorg/data/ext/health-lifesci/medicalWebpage-examples.txt\n",
            "./schemaorg/data/ext/health-lifesci/medicalGuideline-examples.txt\n",
            "./schemaorg/data/ext/bib/bsdo-atlas-examples.txt\n",
            "./schemaorg/data/ext/bib/bsdo-collection-examples.txt\n",
            "./schemaorg/data/ext/bib/comics-examples.txt\n",
            "./schemaorg/data/ext/bib/bsdo-newspaper-examples.txt\n",
            "./schemaorg/data/ext/bib/bsdo-thesis-examples.txt\n",
            "./schemaorg/data/ext/bib/bsdo-translation-examples.txt\n",
            "./schemaorg/data/ext/bib/bsdo-audiobook-examples.txt\n",
            "./schemaorg/data/ext/bib/bsdo-chapter-examples.txt\n",
            "./schemaorg/data/sdo-tv-listing-examples.txt\n",
            "./schemaorg/data/sdo-identifier-examples.txt\n",
            "./schemaorg/data/sdo-service-examples.txt\n",
            "./schemaorg/data/sdo-defined-region-examples.txt\n",
            "./schemaorg/data/sdo-mainEntity-examples.txt\n",
            "./schemaorg/data/sdo-visualartwork-examples.txt\n",
            "./schemaorg/data/sdo-course-examples.txt\n",
            "./schemaorg/data/sdo-map-examples.txt\n",
            "./schemaorg/data/sdo-apartment-examples.txt\n",
            "./schemaorg/data/sdo-sports-examples.txt\n",
            "./schemaorg/data/sdo-userinteraction-examples.txt\n",
            "./schemaorg/data/sdo-howto-examples.txt\n",
            "./schemaorg/data/sdo-fibo-examples.txt\n",
            "./schemaorg/data/sdo-tourism-examples.txt\n",
            "./schemaorg/data/sdo-property-value-examples.txt\n",
            "./schemaorg/data/sdo-social-media-examples.txt\n",
            "./schemaorg/data/sdo-website-examples.txt\n",
            "./schemaorg/data/sdo-screeningevent-examples.txt\n",
            "./schemaorg/data/sdo-menu-examples.txt\n",
            "./schemaorg/data/sdo-datafeed-examples.txt\n",
            "./schemaorg/data/sdo-dentist-examples.txt\n",
            "./schemaorg/data/sdo-ClaimReview-issue-1061-examples.txt\n",
            "./schemaorg/data/issue-1004-examples.txt\n",
            "./schemaorg/data/sdo-examples-goodrelations.txt\n",
            "./schemaorg/data/sdo-single-family-residence-examples.txt\n",
            "./schemaorg/data/sdo-sponsor-examples.txt\n",
            "./schemaorg/data/issue-1100-examples.txt\n",
            "./schemaorg/data/sdo-library-examples.txt\n",
            "./schemaorg/data/sdo-exhibitionevent-examples.txt\n",
            "./schemaorg/data/sdo-lrmi-examples.txt\n",
            "./schemaorg/data/sdo-music-examples.txt\n",
            "./schemaorg/data/sdo-periodical-examples.txt\n",
            "./schemaorg/data/sdo-offer-shipping-details-examples.txt\n"
          ],
          "name": "stdout"
        }
      ]
    },
    {
      "cell_type": "markdown",
      "metadata": {
        "id": "S3PZjEzRkYfW"
      },
      "source": [
        ""
      ]
    },
    {
      "cell_type": "markdown",
      "metadata": {
        "id": "7n6ZBbsBwQGf"
      },
      "source": [
        "TODOs:\n",
        " * can we load all the examples into a multi-graph SPARQL store? (in rdflib not remote endpoint); put them into 'core' and 'pending' named graphs or similar.\n",
        "  * then load triples from latest webschemas, https://webschemas.org/version/latest/schemaorg-current-https.jsonld into a named graph.\n",
        "  * find triples in 'core' examples that are not in the vocabulary (then same with pending)\n"
      ]
    }
  ]
}