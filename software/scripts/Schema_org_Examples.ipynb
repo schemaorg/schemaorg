{
  "nbformat": 4,
  "nbformat_minor": 0,
  "metadata": {
    "colab": {
      "name": "Schema_org_Examples",
      "provenance": [],
      "collapsed_sections": [],
      "authorship_tag": "ABX9TyNxn9T9cWaaQNlg50u2VAiZ",
      "include_colab_link": true
    },
    "kernelspec": {
      "name": "python3",
      "display_name": "Python 3"
    }
  },
  "cells": [
    {
      "cell_type": "markdown",
      "metadata": {
        "id": "view-in-github",
        "colab_type": "text"
      },
      "source": [
        "<a href=\"https://colab.research.google.com/github/schemaorg/schemaorg/blob/main/scripts/Schema_org_Examples.ipynb\" target=\"_parent\"><img src=\"https://colab.research.google.com/assets/colab-badge.svg\" alt=\"Open In Colab\"/></a>"
      ]
    },
    {
      "cell_type": "markdown",
      "metadata": {
        "id": "6AEolzp9u63T"
      },
      "source": [
        "# Initialisaion & Data Source Selection\n",
        "Select data source then run the cell\n",
        "\n",
        "\n",
        "\n"
      ]
    },
    {
      "cell_type": "code",
      "metadata": {
        "colab": {
          "base_uri": "https://localhost:8080/"
        },
        "id": "uZehis5Xt617",
        "cellView": "form",
        "outputId": "897a248b-fe6c-4998-cbe5-040bdc03cdf4"
      },
      "source": [
        "import os,sys\n",
        "## Source Selection\n",
        "DataSource = \"Github:main\" #@param [\"Github:main\", \"webschemas.org\", \"schema.org\"] {allow-input: true}\n",
        "\n",
        "gitpullrequired = False\n",
        "if DataSource == \"Github:main\":\n",
        "  gitpullrequired = True\n",
        "  termSource = \"default\"\n",
        "  examplesSource = \"default\"\n",
        "elif DataSource == \"webschemas.org\":\n",
        "  termSource = \"https://webschemas.org/version/latest/schemaorg-current-http.ttl\"\n",
        "  examplesSource = \"https://webschemas.org/version/latest/schemaorg-all-examples.txt\"\n",
        "elif DataSource == \"schema.org\":\n",
        "  termSource = \"https://schema.org/version/latest/schemaorg-current-http.ttl\"\n",
        "  examplesSource = \"https://schema.org/version/latest/schemaorg-all-examples.txt\"\n",
        "\n",
        "os.chdir(\"/content\")\n",
        "if not os.path.isdir(\"lib\"):\n",
        "  !mkdir lib\n",
        "for path in [os.getcwd(),\"lib\",\"/content/lib\"]:\n",
        "  sys.path.insert( 1, path ) #Pickup libs from shipped lib directory\n",
        "\n",
        "print(\"Loading schemaorg support libraries ...\")  \n",
        "!(cd lib; curl -s -O https://raw.githubusercontent.com/schemaorg/schemaorg/main/SchemaTerms/sdotermsource.py)\n",
        "!(cd lib; curl -s -O https://raw.githubusercontent.com/schemaorg/schemaorg/main/SchemaTerms/sdoterm.py)\n",
        "!(cd lib; curl -s -O https://raw.githubusercontent.com/schemaorg/schemaorg/main/SchemaTerms/localmarkdown.py)\n",
        "!(cd lib; curl -s -O https://raw.githubusercontent.com/schemaorg/schemaorg/main/SchemaExamples/schemaexamples.py)\n",
        "!(cd lib; curl -s -O https://raw.githubusercontent.com/schemaorg/schemaorg/main/requirements.txt)\n",
        "\n",
        "!pip --quiet install -r lib/requirements.txt\n",
        "\n",
        "from schemaexamples import SchemaExamples, Example\n",
        "from sdotermsource import SdoTermSource\n",
        "from sdoterm import *\n",
        "from localmarkdown import Markdown\n",
        "\n",
        "Markdown.setWikilinkCssClass(\"localLink\")\n",
        "Markdown.setWikilinkPrePath(\"https://schema.org/\")\n",
        "Markdown.setWikilinkPostPath(\"\")\n",
        "\n",
        "if gitpullrequired:\n",
        "  print(\"\\nPulling data from schemaorg repository...\")\n",
        "  if os.path.isdir(\"schemaorg\"):\n",
        "    !rm -r schemaorg\n",
        "  !git clone https://github.com/schemaorg/schemaorg.git\n",
        "  os.chdir(\"schemaorg\") #If sources are 'default' file paths are relative to schemaorg dir.\n",
        "\n",
        "print(\"\\nLoading triples file(s)\")\n",
        "SdoTermSource.loadSourceGraph(termSource,init=True)\n",
        "print (\"loaded %s triples - %s terms\" % (len(SdoTermSource.sourceGraph()),len(SdoTermSource.getAllTerms())) )\n",
        "\n",
        "print(\"\\nLoading examples file(s)\")\n",
        "SchemaExamples.loadExamplesFiles(examplesSource,init=True)\n",
        "print(\"Loaded %d examples \" % (SchemaExamples.count()))\n",
        "\n",
        "os.chdir(\"/content\") #put us back to a consistant place\n",
        "\n",
        "############## Utils ########\n",
        "def percentage(part, whole):\n",
        "  if not part:\n",
        "    return float(0)\n",
        "  return 100 * float(part)/float(whole)\n",
        "\n",
        "def drawProgressBar(percent, barLen = 20, pre=\"\"):\n",
        "  sys.stdout.write(\"\\r\")\n",
        "  progress = \"\"\n",
        "  for i in range(barLen):\n",
        "      if i < int(barLen * percent):\n",
        "          progress += \"=\"\n",
        "      else:\n",
        "          progress += \" \"\n",
        "  sys.stdout.write(\"%s[ %s ] %.2f%%\" % (pre,progress, percent * 100))\n",
        "  sys.stdout.flush()\n",
        "\n",
        "def clearProgressBar(pre=\"\"):\n",
        "  sys.stdout.write(\"\\r\")\n",
        "  sys.stdout.write(pre)\n",
        "  sys.stdout.flush()\n",
        "\n",
        "\n"
      ],
      "execution_count": null,
      "outputs": [
        {
          "output_type": "stream",
          "text": [
            "Loading schemaorg support libraries ...\n",
            "\n",
            "Pulling data from schemaorg repository...\n",
            "Cloning into 'schemaorg'...\n",
            "remote: Enumerating objects: 8, done.\u001b[K\n",
            "remote: Counting objects: 100% (8/8), done.\u001b[K\n",
            "remote: Compressing objects: 100% (8/8), done.\u001b[K\n",
            "remote: Total 23789 (delta 3), reused 0 (delta 0), pack-reused 23781\u001b[K\n",
            "Receiving objects: 100% (23789/23789), 96.36 MiB | 17.56 MiB/s, done.\n",
            "Resolving deltas: 100% (16959/16959), done.\n",
            "Checking out files: 100% (1788/1788), done.\n",
            "\n",
            "Loading triples file(s)\n",
            "SdoTermSource.loadSourceGraph() loading from default files found in globs: ['data/*.ttl', 'data/ext/*/*.ttl']\n",
            "loaded 15081 triples - 2636 terms\n",
            "\n",
            "Loading examples file(s)\n",
            "Examples files already loaded\n",
            "Loaded 462 examples \n"
          ],
          "name": "stdout"
        }
      ]
    },
    {
      "cell_type": "markdown",
      "metadata": {
        "id": "onwhJ4T-N4my"
      },
      "source": [
        "#Examples Overview"
      ]
    },
    {
      "cell_type": "code",
      "metadata": {
        "colab": {
          "base_uri": "https://localhost:8080/"
        },
        "cellView": "form",
        "id": "Fik6M2yhODS6",
        "outputId": "32b1b0e1-462e-4905-b11f-6163f311e138"
      },
      "source": [
        "#@title Analyse Examples coverage\n",
        "ShowErrors = False #@param {type:\"boolean\"}\n",
        "print(\"Total Examples: %s\" % SchemaExamples.count())\n",
        "print(\"Terms with examples: %s\" % len(SchemaExamples.EXAMPLESMAP))\n",
        "maxex = maxterm = invalidTerms = 0\n",
        "for t, exs in SchemaExamples.EXAMPLESMAP.items():\n",
        "  maxex = max(maxex,len(exs))\n",
        "print(\"Max examples for a term: %s\" % maxex)\n",
        "import re\n",
        "\n",
        "all = SchemaExamples.allExamples()\n",
        "total = len(all)\n",
        "done = 0\n",
        "for ex in all:\n",
        "  debugdata = \"\"\n",
        "  if gitpullrequired:\n",
        "    debugdata = \" (%s [%s]) \" % (ex.exmeta.get('file',''),ex.exmeta.get('filepos',''))\n",
        "  maxterm = max(maxterm,len(ex.terms))\n",
        "  for term in ex.terms:\n",
        "    if re.search('[^0-9a-zA-Z-_]',term):\n",
        "      if ShowErrors:\n",
        "        clearProgressBar(\"    %s: invalid term name: '%s' %s\\n\" %(ex.keyvalue,term,debugdata))\n",
        "      invalidTerms += 1\n",
        "    else:\n",
        "      t = SdoTermSource.getTerm(term)\n",
        "      if not t:\n",
        "        if ShowErrors:\n",
        "          clearProgressBar(\"    %s: term not found: %s  %s\\n\" %(ex.keyvalue,term,debugdata))\n",
        "        invalidTerms += 1\n",
        "  done += 1\n",
        "  drawProgressBar(percentage(done,total)/100,50,pre=\"Processing Example Definitions.... \")\n",
        "\n",
        "clearProgressBar(\"\")\n",
        "print()\n",
        "print(\"Max terms for an example: %s\" % maxterm)\n",
        "print(\"Examples mapped to invalid term names: %s\" % invalidTerms)\n",
        "\n",
        "typecounts = [0,0]\n",
        "propcounts = [0,0]\n",
        "enumcounts = [0,0]\n",
        "enumvalcounts = [0,0]\n",
        "datatypecounts = [0,0]\n",
        "\n",
        "\n",
        "print()\n",
        "all = SdoTermSource.getAllTerms()\n",
        "total = len(all)\n",
        "done = 0\n",
        "for t in all:\n",
        "  term = SdoTermSource.getTerm(t)\n",
        "  if term.termType == SdoTerm.TYPE:\n",
        "    counts = typecounts\n",
        "  elif term.termType == SdoTerm.PROPERTY:\n",
        "    counts = propcounts\n",
        "  elif term.termType == SdoTerm.DATATYPE:\n",
        "    counts = datatypecounts\n",
        "  elif term.termType == SdoTerm.ENUMERATION:\n",
        "    counts = enumcounts\n",
        "  elif term.termType == SdoTerm.ENUMERATIONVALUE:\n",
        "    counts = enumvalcounts\n",
        "  else:\n",
        "    counts =[0,0]\n",
        "  if len(SchemaExamples.examplesForTerm(term.id)):\n",
        "    counts[0] += 1\n",
        "  counts[1] += 1\n",
        "  done += 1\n",
        "  drawProgressBar(percentage(done,total)/100,50,pre=\"Processing Term Definitions.... \")\n",
        "\n",
        "clearProgressBar(\"\")\n",
        "\n",
        "print(\"Terms/Example coverage:\")\n",
        "print(\"   Type coverage %.2f%% (%d of %d)\" % (percentage(typecounts[0],typecounts[1]),typecounts[0],typecounts[1]))\n",
        "print(\"   Property coverage %.2f%% (%d of %d)\" % (percentage(propcounts[0],propcounts[1]), propcounts[0],propcounts[1]))\n",
        "print(\"   Enumeration coverage %.2f%% (%d of %d)\" % (percentage(enumcounts[0],enumcounts[1]), enumcounts[0],enumcounts[1]))\n",
        "print(\"   EnumerationValue coverage %.2f%% (%d of %d)\" % (percentage(enumvalcounts[0],enumvalcounts[1]), enumvalcounts[0],enumvalcounts[1]))\n",
        "print(\"   DataType coverage %.2f%% (%d of %d)\" % (percentage(datatypecounts[0],datatypecounts[1]), datatypecounts[0],datatypecounts[1]))\n",
        "\n",
        "\n"
      ],
      "execution_count": null,
      "outputs": [
        {
          "output_type": "stream",
          "text": [
            "Total Examples: 462\n",
            "Terms with examples: 557\n",
            "Max examples for a term: 19\n",
            "\n",
            "Max terms for an example: 13\n",
            "Examples mapped to invalid term names: 11\n",
            "\n",
            "Terms/Example coverage:\n",
            "   Type coverage 44.71% (351 of 785)\n",
            "   Property coverage 12.94% (179 of 1383)\n",
            "   Enumeration coverage 5.48% (4 of 73)\n",
            "   EnumerationValue coverage 3.54% (13 of 367)\n",
            "   DataType coverage 0.00% (0 of 9)\n"
          ],
          "name": "stdout"
        }
      ]
    }
  ]
}